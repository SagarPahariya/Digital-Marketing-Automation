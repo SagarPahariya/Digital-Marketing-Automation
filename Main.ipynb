{
 "cells": [
  {
   "cell_type": "code",
   "execution_count": 120,
   "id": "f9f2be98",
   "metadata": {
    "ExecuteTime": {
     "end_time": "2023-01-10T15:56:16.401064Z",
     "start_time": "2023-01-10T15:56:16.390062Z"
    }
   },
   "outputs": [],
   "source": [
    "from PIL import Image, ImageFont, ImageDraw "
   ]
  },
  {
   "cell_type": "code",
   "execution_count": 121,
   "id": "4e251071",
   "metadata": {
    "ExecuteTime": {
     "end_time": "2023-01-10T15:56:16.417066Z",
     "start_time": "2023-01-10T15:56:16.403065Z"
    }
   },
   "outputs": [],
   "source": [
    "import cv2\n",
    "import numpy as np"
   ]
  },
  {
   "cell_type": "code",
   "execution_count": 122,
   "id": "7eff5fe6",
   "metadata": {
    "ExecuteTime": {
     "end_time": "2023-01-10T15:56:16.432422Z",
     "start_time": "2023-01-10T15:56:16.418067Z"
    }
   },
   "outputs": [],
   "source": [
    "import matplotlib.pyplot as plt\n",
    "%matplotlib inline"
   ]
  },
  {
   "cell_type": "code",
   "execution_count": 123,
   "id": "c87383ab",
   "metadata": {
    "ExecuteTime": {
     "end_time": "2023-01-10T15:56:16.447824Z",
     "start_time": "2023-01-10T15:56:16.434513Z"
    }
   },
   "outputs": [],
   "source": [
    "from moviepy.editor import *"
   ]
  },
  {
   "cell_type": "code",
   "execution_count": 124,
   "id": "c835e994",
   "metadata": {
    "ExecuteTime": {
     "end_time": "2023-01-10T15:56:16.463620Z",
     "start_time": "2023-01-10T15:56:16.448874Z"
    }
   },
   "outputs": [],
   "source": [
    "a0=cv2.imread('1.jpg')"
   ]
  },
  {
   "cell_type": "code",
   "execution_count": 125,
   "id": "a6ccc78c",
   "metadata": {
    "ExecuteTime": {
     "end_time": "2023-01-10T15:56:16.478175Z",
     "start_time": "2023-01-10T15:56:16.464658Z"
    }
   },
   "outputs": [
    {
     "data": {
      "text/plain": [
       "(503, 1000, 3)"
      ]
     },
     "execution_count": 125,
     "metadata": {},
     "output_type": "execute_result"
    }
   ],
   "source": [
    "a0.shape"
   ]
  },
  {
   "cell_type": "code",
   "execution_count": 126,
   "id": "c073e0d2",
   "metadata": {
    "ExecuteTime": {
     "end_time": "2023-01-10T15:56:16.493460Z",
     "start_time": "2023-01-10T15:56:16.479270Z"
    }
   },
   "outputs": [],
   "source": [
    "a00=cv2.cvtColor(a0,cv2.COLOR_BGR2RGB)"
   ]
  },
  {
   "cell_type": "code",
   "execution_count": 127,
   "id": "3b4187d3",
   "metadata": {
    "ExecuteTime": {
     "end_time": "2023-01-10T15:56:16.509211Z",
     "start_time": "2023-01-10T15:56:16.494517Z"
    }
   },
   "outputs": [],
   "source": [
    "a1=cv2.resize(a00,(5000,5000))"
   ]
  },
  {
   "cell_type": "code",
   "execution_count": 128,
   "id": "a31ab82c",
   "metadata": {
    "ExecuteTime": {
     "end_time": "2023-01-10T15:56:16.870657Z",
     "start_time": "2023-01-10T15:56:16.510260Z"
    }
   },
   "outputs": [
    {
     "data": {
      "text/plain": [
       "True"
      ]
     },
     "execution_count": 128,
     "metadata": {},
     "output_type": "execute_result"
    }
   ],
   "source": [
    "\n",
    "h=cv2.putText(a1,' Data Science Basic Training program for Everyone ',(50,500),fontFace=cv2.FONT_HERSHEY_COMPLEX_SMALL,fontScale=10 ,color=(255,255,255),thickness=10)\n",
    "h2=cv2.putText(a1,'     for Everyone (Age=10 to 60)      ',(50,800),fontFace=cv2.FONT_HERSHEY_COMPLEX_SMALL,fontScale=10 ,color=(255,255,255),thickness=10)\n",
    "to_dis=cv2.putText(a1,' Program Discription: ',(50,1500),fontFace=cv2.FONT_HERSHEY_COMPLEX_SMALL,fontScale=10 ,color=(255,255,255),thickness=10)\n",
    "to_dis1=cv2.putText(a1,' In this Data Science Basic Training ',(50,1700),fontFace=cv2.FONT_HERSHEY_COMPLEX_SMALL,fontScale=10 ,color=(255,255,255),thickness=10)\n",
    "to_dis1=cv2.putText(a1,' program  training through which one can gain basic knowledge about data science',(50,1900),fontFace=cv2.FONT_HERSHEY_COMPLEX_SMALL,fontScale=10 ,color=(255,255,255),thickness=10)\n",
    "to_dis1=cv2.putText(a1,' can gain basic knowledge about data science',(50,2100),fontFace=cv2.FONT_HERSHEY_COMPLEX_SMALL,fontScale=10 ,color=(255,255,255),thickness=10)\n",
    "to_dis1=cv2.putText(a1,' science',(50,2300),fontFace=cv2.FONT_HERSHEY_COMPLEX_SMALL,fontScale=10 ,color=(255,255,255),thickness=10)\n",
    "pd=cv2.putText(a1,' Program Details: ',(50,2900),fontFace=cv2.FONT_HERSHEY_COMPLEX_SMALL,fontScale=10 ,color=(255,255,255),thickness=10)\n",
    "pd=cv2.putText(a1,' Course Fee        Rs.999 ',(50,3300),fontFace=cv2.FONT_HERSHEY_COMPLEX_SMALL,fontScale=10 ,color=(255,255,255),thickness=10)\n",
    "pd=cv2.putText(a1,' Course Duration   1 Month ',(50,3600),fontFace=cv2.FONT_HERSHEY_COMPLEX_SMALL,fontScale=10 ,color=(255,255,255),thickness=10)\n",
    "pd=cv2.putText(a1,' Timings           Monday to Friday ',(50,3900),fontFace=cv2.FONT_HERSHEY_COMPLEX_SMALL,fontScale=10 ,color=(255,255,255),thickness=10)\n",
    "pd=cv2.putText(a1,' Training Modes  Online & Classroom',(50,4200),fontFace=cv2.FONT_HERSHEY_COMPLEX_SMALL,fontScale=10 ,color=(255,255,255),thickness=10)\n",
    "cv2.imwrite('3.jpg',a1)"
   ]
  },
  {
   "cell_type": "code",
   "execution_count": 129,
   "id": "9a2684ca",
   "metadata": {
    "ExecuteTime": {
     "end_time": "2023-01-10T15:56:16.901933Z",
     "start_time": "2023-01-10T15:56:16.872648Z"
    }
   },
   "outputs": [],
   "source": [
    "a01=cv2.imread('1.jpg')\n",
    "a001=cv2.cvtColor(a01,cv2.COLOR_BGR2RGB)\n",
    "a11=cv2.resize(a001,(5000,5000))"
   ]
  },
  {
   "cell_type": "code",
   "execution_count": 130,
   "id": "9523619d",
   "metadata": {
    "ExecuteTime": {
     "end_time": "2023-01-10T15:56:16.917350Z",
     "start_time": "2023-01-10T15:56:16.903971Z"
    }
   },
   "outputs": [],
   "source": [
    "cl=[]"
   ]
  },
  {
   "cell_type": "code",
   "execution_count": 131,
   "id": "b486979a",
   "metadata": {
    "ExecuteTime": {
     "end_time": "2023-01-10T15:56:16.932901Z",
     "start_time": "2023-01-10T15:56:16.918409Z"
    }
   },
   "outputs": [],
   "source": [
    "c1= ImageClip(a11).set_duration(5)"
   ]
  },
  {
   "cell_type": "code",
   "execution_count": 132,
   "id": "547988cc",
   "metadata": {
    "ExecuteTime": {
     "end_time": "2023-01-10T15:56:16.948854Z",
     "start_time": "2023-01-10T15:56:16.933942Z"
    }
   },
   "outputs": [],
   "source": [
    "cl.append(c1)"
   ]
  },
  {
   "cell_type": "code",
   "execution_count": 133,
   "id": "7fd9ccba",
   "metadata": {
    "ExecuteTime": {
     "end_time": "2023-01-10T15:56:16.979738Z",
     "start_time": "2023-01-10T15:56:16.949903Z"
    }
   },
   "outputs": [],
   "source": [
    "a02=cv2.imread('2.png')\n",
    "a002=cv2.cvtColor(a02,cv2.COLOR_BGR2RGB)\n",
    "a22=cv2.resize(a002,(5000,5000))"
   ]
  },
  {
   "cell_type": "code",
   "execution_count": 134,
   "id": "3eedc5e9",
   "metadata": {
    "ExecuteTime": {
     "end_time": "2023-01-10T15:56:16.995513Z",
     "start_time": "2023-01-10T15:56:16.981150Z"
    }
   },
   "outputs": [],
   "source": [
    "c2=ImageClip(a22).set_duration(6)"
   ]
  },
  {
   "cell_type": "code",
   "execution_count": 135,
   "id": "3b12cccc",
   "metadata": {
    "ExecuteTime": {
     "end_time": "2023-01-10T15:56:17.011592Z",
     "start_time": "2023-01-10T15:56:16.996559Z"
    }
   },
   "outputs": [],
   "source": [
    "cl.append(c2)"
   ]
  },
  {
   "cell_type": "code",
   "execution_count": 136,
   "id": "29b9a71c",
   "metadata": {
    "ExecuteTime": {
     "end_time": "2023-01-10T15:56:17.272071Z",
     "start_time": "2023-01-10T15:56:17.012643Z"
    }
   },
   "outputs": [],
   "source": [
    "a03=cv2.imread('3.jpg')\n",
    "a003=cv2.cvtColor(a03,cv2.COLOR_BGR2RGB)\n",
    "a33=cv2.resize(a003,(5000,5000))"
   ]
  },
  {
   "cell_type": "code",
   "execution_count": 137,
   "id": "90c332ec",
   "metadata": {
    "ExecuteTime": {
     "end_time": "2023-01-10T15:56:17.288184Z",
     "start_time": "2023-01-10T15:56:17.274146Z"
    }
   },
   "outputs": [],
   "source": [
    "c3=ImageClip(a33).set_duration(10)"
   ]
  },
  {
   "cell_type": "code",
   "execution_count": 138,
   "id": "6198704a",
   "metadata": {
    "ExecuteTime": {
     "end_time": "2023-01-10T15:56:17.303883Z",
     "start_time": "2023-01-10T15:56:17.289263Z"
    }
   },
   "outputs": [],
   "source": [
    "cl.append(c3)"
   ]
  },
  {
   "cell_type": "code",
   "execution_count": 139,
   "id": "63c908a9",
   "metadata": {
    "ExecuteTime": {
     "end_time": "2023-01-10T15:56:17.319884Z",
     "start_time": "2023-01-10T15:56:17.305343Z"
    }
   },
   "outputs": [
    {
     "data": {
      "text/plain": [
       "3"
      ]
     },
     "execution_count": 139,
     "metadata": {},
     "output_type": "execute_result"
    }
   ],
   "source": [
    "len(cl)"
   ]
  },
  {
   "cell_type": "code",
   "execution_count": 140,
   "id": "a4517df4",
   "metadata": {
    "ExecuteTime": {
     "end_time": "2023-01-10T15:56:17.723500Z",
     "start_time": "2023-01-10T15:56:17.320994Z"
    }
   },
   "outputs": [],
   "source": [
    "vc=concatenate_videoclips(cl,method='compose')\n",
    "    "
   ]
  },
  {
   "cell_type": "code",
   "execution_count": 141,
   "id": "dbad3497",
   "metadata": {
    "ExecuteTime": {
     "end_time": "2023-01-10T15:56:25.771605Z",
     "start_time": "2023-01-10T15:56:17.724703Z"
    }
   },
   "outputs": [
    {
     "name": "stdout",
     "output_type": "stream",
     "text": [
      "Moviepy - Building video out1.mp4.\n",
      "Moviepy - Writing video out1.mp4\n",
      "\n"
     ]
    },
    {
     "name": "stderr",
     "output_type": "stream",
     "text": [
      "                                                                                                                       \r"
     ]
    },
    {
     "name": "stdout",
     "output_type": "stream",
     "text": [
      "Moviepy - Done !\n",
      "Moviepy - video ready out1.mp4\n"
     ]
    }
   ],
   "source": [
    "vc.write_videofile('out1.mp4',fps =1 ,remove_temp=True, codec='libx264',audio_codec='aac')"
   ]
  }
 ],
 "metadata": {
  "kernelspec": {
   "display_name": "Python 3 (ipykernel)",
   "language": "python",
   "name": "python3"
  },
  "language_info": {
   "codemirror_mode": {
    "name": "ipython",
    "version": 3
   },
   "file_extension": ".py",
   "mimetype": "text/x-python",
   "name": "python",
   "nbconvert_exporter": "python",
   "pygments_lexer": "ipython3",
   "version": "3.9.12"
  }
 },
 "nbformat": 4,
 "nbformat_minor": 5
}
